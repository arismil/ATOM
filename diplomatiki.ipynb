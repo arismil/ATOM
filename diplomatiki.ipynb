{
 "nbformat": 4,
 "nbformat_minor": 0,
 "metadata": {
  "kernelspec": {
   "display_name": "Python 3",
   "language": "python",
   "name": "python3"
  },
  "language_info": {
   "codemirror_mode": {
    "name": "ipython",
    "version": 2
   },
   "file_extension": ".py",
   "mimetype": "text/x-python",
   "name": "python",
   "nbconvert_exporter": "python",
   "pygments_lexer": "ipython2",
   "version": "2.7.6"
  },
  "colab": {
   "name": "diplomatiki.ipynb",
   "provenance": []
  }
 },
 "cells": [
  {
   "cell_type": "code",
   "metadata": {
    "collapsed": true,
    "id": "jhKFpNQ-FHR1"
   },
   "source": [
    "\n",
    "# Google Colab parameter\n",
    "%tensorflow_version 1.x\n",
    "\n",
    "\n",
    "from matplotlib import pyplot as plt\n",
    "import time\n",
    "import cv2\n",
    "from preprocessing import lane_detection\n",
    "# from lane import Lane\n",
    "import detection\n"
   ],
   "execution_count": null,
   "outputs": []
  },
  {
   "cell_type": "code",
   "metadata": {
    "id": "mEbmXyNPFizr"
   },
   "source": [
    "print(tf.__version__)\n",
    "device_name = tf.test.gpu_device_name()\n",
    "if device_name != '/device:GPU:0':\n",
    "    raise SystemError('GPU device not found')\n",
    "print('Found GPU at: {}'.format(device_name))"
   ],
   "execution_count": null,
   "outputs": []
  },
  {
   "cell_type": "code",
   "metadata": {
    "id": "396kG_PyF4fG"
   },
   "source": [
    "\n",
    "# Loading video images in BGR\n",
    "video = cv2.VideoCapture('Video Nº 11- Ugly Asphalt cracks (S.A. La Beltraneja).mp4')\n",
    "\n",
    "out = cv2.VideoWriter('output.avi', cv2.VideoWriter_fourcc('M', 'J', 'P', 'G'), 30, (1280, 720))\n",
    "# Check if camera opened successfully\n",
    "if (not video.isOpened()):\n",
    "    print(\"Error opening video stream or file\")"
   ],
   "execution_count": null,
   "outputs": []
  },
  {
   "cell_type": "code",
   "metadata": {
    "id": "EEQFxtVBF7ml"
   },
   "source": [
    "start_time = time.time()\n",
    "while (video.isOpened()):\n",
    "    success, originImg = video.read()\n",
    "    if success:\n",
    "        detected = detection.detect(originImg)\n",
    "        # lined = lane_detection(originImg)\n",
    "        # image_np,*_ = detect(masked)\n",
    "        # Display the resulting frame\n",
    "        plt.imshow(detected)\n",
    "        # plt.imshow(lined)\n",
    "        plt.show()\n",
    "        # out.write(lined)\n",
    "    else:\n",
    "        break\n"
   ],
   "execution_count": null,
   "outputs": []
  },
  {
   "cell_type": "code",
   "metadata": {
    "id": "L2BAQWwUF9fP"
   },
   "source": [
    "video.release()\n",
    "print(\"--- %s seconds ---\" % (time.time() - start_time))\n"
   ],
   "execution_count": null,
   "outputs": []
  }
 ]
}